{
 "cells": [
  {
   "cell_type": "code",
   "execution_count": null,
   "metadata": {},
   "outputs": [],
   "source": [
    "# Import Libraries and Dependencies\n",
    "import pandas as pd"
   ]
  },
  {
   "cell_type": "markdown",
   "metadata": {},
   "source": [
    "### 1. Combine and Clean the Data\n",
    "#### Import CSVs"
   ]
  },
  {
   "cell_type": "code",
   "execution_count": 1,
   "metadata": {},
   "outputs": [
    {
     "ename": "NameError",
     "evalue": "name 'pd' is not defined",
     "output_type": "error",
     "traceback": [
      "\u001b[1;31m---------------------------------------------------------------------------\u001b[0m",
      "\u001b[1;31mNameError\u001b[0m                                 Traceback (most recent call last)",
      "Cell \u001b[1;32mIn[1], line 2\u001b[0m\n\u001b[0;32m      1\u001b[0m \u001b[38;5;66;03m# Read the CSV files into DataFrames.\u001b[39;00m\n\u001b[1;32m----> 2\u001b[0m athletic_sales_2020_df \u001b[38;5;241m=\u001b[39m pd\u001b[38;5;241m.\u001b[39mread_csv(\u001b[38;5;124m'\u001b[39m\u001b[38;5;124mResources/athletic_sales_2020.csv\u001b[39m\u001b[38;5;124m'\u001b[39m)\n\u001b[0;32m      3\u001b[0m athletic_sales_2021_df \u001b[38;5;241m=\u001b[39m pd\u001b[38;5;241m.\u001b[39mread_csv(\u001b[38;5;124m'\u001b[39m\u001b[38;5;124mResources/athletic_sales_2021.csv\u001b[39m\u001b[38;5;124m'\u001b[39m)\n",
      "\u001b[1;31mNameError\u001b[0m: name 'pd' is not defined"
     ]
    }
   ],
   "source": [
    "# Read the CSV files into DataFrames.\n",
    "athletic_sales_2020_df = pd.read_csv('Resources/athletic_sales_2020.csv')\n",
    "athletic_sales_2021_df = pd.read_csv('Resources/athletic_sales_2021.csv')\n"
   ]
  },
  {
   "cell_type": "code",
   "execution_count": 2,
   "metadata": {},
   "outputs": [
    {
     "ename": "NameError",
     "evalue": "name 'athletic_sales_2020_df' is not defined",
     "output_type": "error",
     "traceback": [
      "\u001b[1;31m---------------------------------------------------------------------------\u001b[0m",
      "\u001b[1;31mNameError\u001b[0m                                 Traceback (most recent call last)",
      "Cell \u001b[1;32mIn[2], line 2\u001b[0m\n\u001b[0;32m      1\u001b[0m \u001b[38;5;66;03m# Display the 2020 sales DataFrame\u001b[39;00m\n\u001b[1;32m----> 2\u001b[0m athletic_sales_2020_df\n",
      "\u001b[1;31mNameError\u001b[0m: name 'athletic_sales_2020_df' is not defined"
     ]
    }
   ],
   "source": [
    "# Display the 2020 sales DataFrame\n",
    "athletic_sales_2020_df"
   ]
  },
  {
   "cell_type": "code",
   "execution_count": 3,
   "metadata": {},
   "outputs": [
    {
     "ename": "NameError",
     "evalue": "name 'athletic_sales_2021_df' is not defined",
     "output_type": "error",
     "traceback": [
      "\u001b[1;31m---------------------------------------------------------------------------\u001b[0m",
      "\u001b[1;31mNameError\u001b[0m                                 Traceback (most recent call last)",
      "Cell \u001b[1;32mIn[3], line 2\u001b[0m\n\u001b[0;32m      1\u001b[0m \u001b[38;5;66;03m# Display the 2021 sales DataFrame\u001b[39;00m\n\u001b[1;32m----> 2\u001b[0m athletic_sales_2021_df\n",
      "\u001b[1;31mNameError\u001b[0m: name 'athletic_sales_2021_df' is not defined"
     ]
    }
   ],
   "source": [
    "# Display the 2021 sales DataFrame\n",
    "athletic_sales_2021_df"
   ]
  },
  {
   "cell_type": "markdown",
   "metadata": {},
   "source": [
    "#### Check the data types of each DataFrame"
   ]
  },
  {
   "cell_type": "code",
   "execution_count": 4,
   "metadata": {},
   "outputs": [
    {
     "ename": "NameError",
     "evalue": "name 'athletic_sales_2020_df' is not defined",
     "output_type": "error",
     "traceback": [
      "\u001b[1;31m---------------------------------------------------------------------------\u001b[0m",
      "\u001b[1;31mNameError\u001b[0m                                 Traceback (most recent call last)",
      "Cell \u001b[1;32mIn[4], line 2\u001b[0m\n\u001b[0;32m      1\u001b[0m \u001b[38;5;66;03m# Check the 2020 sales data types.\u001b[39;00m\n\u001b[1;32m----> 2\u001b[0m athletic_sales_2020_df\u001b[38;5;241m.\u001b[39mdtypes\n",
      "\u001b[1;31mNameError\u001b[0m: name 'athletic_sales_2020_df' is not defined"
     ]
    }
   ],
   "source": [
    "# Check the 2020 sales data types.\n",
    "athletic_sales_2020_df.dtypes\n"
   ]
  },
  {
   "cell_type": "code",
   "execution_count": null,
   "metadata": {},
   "outputs": [],
   "source": [
    "# Check the 2021 sales data types.\n",
    "athletic_sales_2021_df.dtypes\n"
   ]
  },
  {
   "cell_type": "markdown",
   "metadata": {},
   "source": [
    "#### Combine the sales data by rows."
   ]
  },
  {
   "cell_type": "code",
   "execution_count": null,
   "metadata": {},
   "outputs": [],
   "source": [
    "# Combine the 2020 and 2021 sales DataFrames on the rows and reset the index.\n",
    "athletic_sales_2021_2022_df = pd.concat([athletic_sales_2020_df, athletic_sales_2021_df])\n",
    "athletic_sales_2021_2022_df  = athletic_sales_2021_2022_df.reset_index(drop=True)\n",
    "\n",
    "athletic_sales_2021_2022_df "
   ]
  },
  {
   "cell_type": "code",
   "execution_count": null,
   "metadata": {},
   "outputs": [],
   "source": [
    "# Check if any values are null.\n",
    "athletic_sales_2021_2022_df .isnull().sum()\n"
   ]
  },
  {
   "cell_type": "code",
   "execution_count": null,
   "metadata": {},
   "outputs": [],
   "source": [
    "# Check the data type of each column\n",
    "athletic_sales_2021_2022_df .dtypes"
   ]
  },
  {
   "cell_type": "code",
   "execution_count": null,
   "metadata": {},
   "outputs": [],
   "source": [
    "# Convert the \"invoice_date\" to a datetime datatype\n",
    "athletic_sales_2021_2022_df[\"invoice_date\"] = pd.to_datetime(athletic_sales_2021_2022_df['invoice_date'], format=\"%m/%d/%y\")\n",
    "athletic_sales_2021_2022_df "
   ]
  },
  {
   "cell_type": "code",
   "execution_count": null,
   "metadata": {},
   "outputs": [],
   "source": [
    "# Confirm that the \"invoice_date\" data type has been changed.\n",
    "athletic_sales_2021_2022_df .dtypes"
   ]
  },
  {
   "cell_type": "markdown",
   "metadata": {},
   "source": [
    "### 2. Determine which Region Sold the Most Products"
   ]
  },
  {
   "cell_type": "markdown",
   "metadata": {},
   "source": [
    "#### Using `pivot_table`"
   ]
  },
  {
   "cell_type": "code",
   "execution_count": null,
   "metadata": {},
   "outputs": [],
   "source": [
    "# Show the number products sold for region, state, and city.\n",
    "athletic_products_sold = pd.pivot_table(athletic_sales_2021_2022_df,\n",
    "                                index=('region', 'state', 'city'),\n",
    "                                values='units_sold',\n",
    "                                aggfunc='sum')\n",
    "\n",
    "# Rename the \"units_sold\" column to \"Total_Products_Sold\"\n",
    "athletic_products_sold = athletic_products_sold.rename(columns={'units_sold' : 'Total_Products_Sold'})\n",
    "\n",
    "\n",
    "# Show the top 5 results.\n",
    "\n",
    "athletic_products_sold.sort_values(by=['Total_Products_Sold'], ascending=False).head(5)"
   ]
  },
  {
   "cell_type": "markdown",
   "metadata": {},
   "source": [
    "### 3. Determine which Region had the Most Sales"
   ]
  },
  {
   "cell_type": "markdown",
   "metadata": {},
   "source": [
    "#### Using `pivot_table`"
   ]
  },
  {
   "cell_type": "code",
   "execution_count": null,
   "metadata": {},
   "outputs": [],
   "source": [
    "# Show the total sales for the products sold for each region, state, and city.\n",
    "\n",
    "athletic_products_sold = pd.pivot_table(athletic_sales_2021_2022_df,\n",
    "                                       index=('retailer', 'region', 'state', 'city'),\n",
    "                                       values='total_sales',\n",
    "                                       aggfunc='sum')\n",
    "\n",
    "# Optional: Rename the \"total_sales\" column to \"Total Sales\"\n",
    "athletic_products_sold = athletic_products_sold.rename(columns={'total_sales': 'Total Sales'})\n",
    "\n",
    "# Show the top 5 results.\n",
    "athletic_products_sold.sort_values(by=['Total Sales'], ascending=False).head()"
   ]
  },
  {
   "cell_type": "markdown",
   "metadata": {
    "jp-MarkdownHeadingCollapsed": true,
    "tags": []
   },
   "source": [
    "### 4. Determine which Retailer had the Most Sales"
   ]
  },
  {
   "cell_type": "markdown",
   "metadata": {},
   "source": [
    "#### Using `pivot_table`"
   ]
  },
  {
   "cell_type": "code",
   "execution_count": null,
   "metadata": {},
   "outputs": [],
   "source": [
    "# Show the total sales for the products sold for each retailer, region, state, and city.\n",
    "total_sales_by_region = pd.pivot_table(athletic_sales_2021_2022_df,\n",
    "                                index=['retailer', 'region', 'state', 'city'],\n",
    "                                values='total_sales',\n",
    "                                aggfunc='sum')\n",
    "\n",
    "# Optional: Rename the \"total_sales\" column to \"Total Sales\"\n",
    "total_sales_by_region = total_sales_by_region.rename(columns={'total_sales' : 'Total Sales'})\n",
    "\n",
    "\n",
    "# Show the top 5 results.\n",
    "total_sales_by_region.sort_values(by=['Total Sales'], ascending=False).head()"
   ]
  },
  {
   "cell_type": "markdown",
   "metadata": {},
   "source": [
    "### 5. Determine which Retailer Sold the Most Women's Athletic Footwear"
   ]
  },
  {
   "cell_type": "code",
   "execution_count": null,
   "metadata": {},
   "outputs": [],
   "source": [
    "# Filter the sales data to get the women's athletic footwear sales data.\n",
    "athletic_womens_fw_df = athletic_sales_2021_2022_df.loc[(athletic_sales_2021_2022_df[\"product\"] == \"Women's Athletic Footwear\")]\n",
    "\n",
    "athletic_womens_fw_df.head()"
   ]
  },
  {
   "cell_type": "markdown",
   "metadata": {},
   "source": [
    "#### Using `pivot_table`"
   ]
  },
  {
   "cell_type": "code",
   "execution_count": null,
   "metadata": {},
   "outputs": [],
   "source": [
    "# Show the total number of women's athletic footwear sold for each retailer, region, state, and city.\n",
    "\n",
    "athletic_womens_fw_df = pd.pivot_table(athletic_sales_2021_2022_df,\n",
    "                                index=('retailer', 'region', 'state', 'city'),\n",
    "                                values='units_sold',\n",
    "                                aggfunc='sum')\n",
    "\n",
    "# Rename the \"units_sold\" column to \"Womens_Footwear_Units_Sold\"\n",
    "\n",
    "athletic_womens_fw_df = athletic_womens_fw_df.rename(columns={'units_sold': 'Womens_Footwear_Units_Sold'})\n",
    "\n",
    "\n",
    "# Show the top 5 results.\n",
    "athletic_womens_fw_df.sort_values(by='Womens_Footwear_Units_Sold', ascending=False).head()\n",
    "\n"
   ]
  },
  {
   "cell_type": "markdown",
   "metadata": {},
   "source": [
    "### 5. Determine the Day with the Most Women's Athletic Footwear Sales"
   ]
  },
  {
   "cell_type": "code",
   "execution_count": null,
   "metadata": {},
   "outputs": [],
   "source": [
    "# Create a pivot table with the 'invoice_date' column is the index, and the \"total_sales\" as the values.\n",
    "most_womens_fw_df = pd.pivot_table(athletic_womens_fw_df, \n",
    "                                    index=\"invoice_date\", \n",
    "                                    values='total_sales',\n",
    "                                    aggfunc='sum')\n",
    "\n",
    "# Optional: Rename the \"total_sales\" column to \"Total Sales\"\n",
    "most_womens_fw_df = most_womens_fw_df.rename(columns={'total_sales' : 'Total Sales'})\n",
    "# Show the table.\n",
    "most_womens_fw_df"
   ]
  },
  {
   "cell_type": "code",
   "execution_count": null,
   "metadata": {},
   "outputs": [],
   "source": [
    "# Resample the pivot table into daily bins, and get the total sales for each day.\n",
    "most_womens_fw_df = most_womens_fw_df.resample('D').sum()\n",
    "\n",
    "# Sort the resampled pivot table in ascending order on \"Total Sales\".\n",
    "most_womens_fw_df.sort_values(by='Total Sales', ascending=False).head()"
   ]
  },
  {
   "cell_type": "markdown",
   "metadata": {},
   "source": [
    "### 6.  Determine the Week with the Most Women's Athletic Footwear Sales"
   ]
  },
  {
   "cell_type": "code",
   "execution_count": null,
   "metadata": {},
   "outputs": [],
   "source": [
    "# Resample the pivot table into weekly bins, and get the total sales for each week.\n",
    "most_womens_fw_df = most_womens_fw_df.resample('W').sum()\n",
    "\n",
    "\n",
    "# Sort the resampled pivot table in ascending order on \"Total Sales\".\n",
    "most_womens_fw_df.sort_values(by='Total Sales', ascending=False).head()"
   ]
  }
 ],
 "metadata": {
  "kernelspec": {
   "display_name": "Python 3 (ipykernel)",
   "language": "python",
   "name": "python3"
  },
  "language_info": {
   "codemirror_mode": {
    "name": "ipython",
    "version": 3
   },
   "file_extension": ".py",
   "mimetype": "text/x-python",
   "name": "python",
   "nbconvert_exporter": "python",
   "pygments_lexer": "ipython3",
   "version": "3.11.5"
  }
 },
 "nbformat": 4,
 "nbformat_minor": 4
}
